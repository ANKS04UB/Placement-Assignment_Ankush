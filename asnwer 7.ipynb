{
 "cells": [
  {
   "cell_type": "code",
   "execution_count": 24,
   "id": "b6db505e",
   "metadata": {},
   "outputs": [
    {
     "name": "stdout",
     "output_type": "stream",
     "text": [
      "     id                 name      recclass    reclat    reclong    mass  year\n",
      "0     1               Aachen            L5  50.77500    6.08333      21  1880\n",
      "1     2               Aarhus            H6  56.18333   10.23333     720  1951\n",
      "2     6                 Abee           EH4  54.21667 -113.00000  107000  1952\n",
      "3    10             Acapulco   Acapulcoite  16.88333  -99.90000    1914  1976\n",
      "4   370              Achiras            L6 -33.16667  -64.95000     780  1902\n",
      "5   379             Adhi Kot           EH4  32.10000   71.80000    4239  1919\n",
      "6   390  Adzhi-Bogdo (stone)         LL3-6  44.83333   95.16667     910  1949\n",
      "7   392                 Agen            H5  44.21667    0.61667   30000  1814\n",
      "8   398               Aguada            L6 -31.60000  -65.23333    1620  1930\n",
      "9   417        Aguila Blanca             L -30.86667  -64.55000    1440  1920\n",
      "10  423     Aioun el Atrouss  Diogenite-pm  16.39806   -9.57028    1000  1974\n",
      "11  424                  Aïr            L6  19.08333    8.38333   24000  1925\n"
     ]
    }
   ],
   "source": [
    "# Get all the Earth meteorites that fell before the year 2000\n",
    "\n",
    "import pandas as pd\n",
    "\n",
    "csv_file = \"meteorites.csv\"\n",
    "meteorites_data = pd.read_csv(csv_file, encoding='latin-1')\n",
    "\n",
    "meteorites_data['year'] = pd.to_datetime(meteorites_data['year'], errors='coerce').dt.year\n",
    "\n",
    "# Filter Earth meteorites that fell before the year 2000\n",
    "filtered_meteorites = meteorites_data[(meteorites_data['reclat'] != 0) & (meteorites_data['year'] < 2000)]\n",
    "\n",
    "print(filtered_meteorites)\n"
   ]
  },
  {
   "cell_type": "code",
   "execution_count": 25,
   "id": "bc1e19e0",
   "metadata": {},
   "outputs": [
    {
     "name": "stdout",
     "output_type": "stream",
     "text": [
      "      reclat    reclong\n",
      "0   50.77500    6.08333\n",
      "1   56.18333   10.23333\n",
      "2   54.21667 -113.00000\n",
      "4  -33.16667  -64.95000\n",
      "5   32.10000   71.80000\n",
      "6   44.83333   95.16667\n",
      "7   44.21667    0.61667\n",
      "8  -31.60000  -65.23333\n",
      "9  -30.86667  -64.55000\n",
      "11  19.08333    8.38333\n"
     ]
    }
   ],
   "source": [
    "# Get all the earth meteorites co-ordinates who fell before the year 1970\n",
    "filtered_meteorites = meteorites_data[(meteorites_data['reclat'] != 0) & (meteorites_data['year'] < 1970)]\n",
    "coordinates = filtered_meteorites[['reclat', 'reclong']]\n",
    "print(coordinates)"
   ]
  },
  {
   "cell_type": "code",
   "execution_count": 29,
   "id": "18df2b60",
   "metadata": {},
   "outputs": [
    {
     "name": "stdout",
     "output_type": "stream",
     "text": [
      "     id  name recclass    reclat    reclong    mass  year\n",
      "2     6  Abee      EH4  54.21667 -113.00000  107000  1952\n",
      "7   392  Agen       H5  44.21667    0.61667   30000  1814\n",
      "11  424   Aïr       L6  19.08333    8.38333   24000  1925\n"
     ]
    }
   ],
   "source": [
    "# Assuming that the mass of the earth meteorites was in kg, get all those whose mass was more\n",
    "#than 10000kg\n",
    "filtered_meteorites = meteorites_data[meteorites_data['mass'] > 10000]\n",
    "print(filtered_meteorites)"
   ]
  },
  {
   "cell_type": "code",
   "execution_count": null,
   "id": "c38a688d",
   "metadata": {},
   "outputs": [],
   "source": []
  },
  {
   "cell_type": "code",
   "execution_count": null,
   "id": "46691993",
   "metadata": {},
   "outputs": [],
   "source": []
  }
 ],
 "metadata": {
  "kernelspec": {
   "display_name": "Python 3 (ipykernel)",
   "language": "python",
   "name": "python3"
  },
  "language_info": {
   "codemirror_mode": {
    "name": "ipython",
    "version": 3
   },
   "file_extension": ".py",
   "mimetype": "text/x-python",
   "name": "python",
   "nbconvert_exporter": "python",
   "pygments_lexer": "ipython3",
   "version": "3.9.12"
  }
 },
 "nbformat": 4,
 "nbformat_minor": 5
}
